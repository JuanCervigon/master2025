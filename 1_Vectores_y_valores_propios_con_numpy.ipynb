{
  "nbformat": 4,
  "nbformat_minor": 0,
  "metadata": {
    "colab": {
      "provenance": [],
      "toc_visible": true,
      "authorship_tag": "ABX9TyPvfqRcjJC2BxyaneGzf63W",
      "include_colab_link": true
    },
    "kernelspec": {
      "name": "python3",
      "display_name": "Python 3"
    },
    "language_info": {
      "name": "python"
    }
  },
  "cells": [
    {
      "cell_type": "markdown",
      "metadata": {
        "id": "view-in-github",
        "colab_type": "text"
      },
      "source": [
        "<a href=\"https://colab.research.google.com/github/JuanCervigon/master2025/blob/main/1_Vectores_y_valores_propios_con_numpy.ipynb\" target=\"_parent\"><img src=\"https://colab.research.google.com/assets/colab-badge.svg\" alt=\"Open In Colab\"/></a>"
      ]
    },
    {
      "cell_type": "markdown",
      "source": [
        "# Vectores y valores propios con `numpy`\n",
        "\n",
        "En este cuaderno se calculan los valores y vectores propios de una matriz $A$\n",
        "\n",
        "\n",
        "Tomamos la matriz $A$ simétrica y definida positiva para asegurar que los valores y vectores propios son números reales\n",
        "\n",
        "Se podría hacer el mismo análisis con cualquier matriz cuadrada, pero si la matriz no es definida positiva, los valores y vectores propios podrían ser números complejos\n",
        "\n",
        "Recordamos las siguientes definiciones\n",
        "\n",
        "\n",
        "* Una matriz $A$ es simétrica si $A'=A$\n",
        "* Una matriz $A$ es semi-definida positiva si $x'Ax\\ge 0   \\hspace{0.5cm}\\forall x\\neq 0$\n",
        "\n",
        "Recordamos que todas las matrices de varianzas y covarianzas son simétricas y semi-definidas positivas\n",
        "\n",
        "El objetivo es familiarizarse con el álgebra de las matrices\n",
        "\n"
      ],
      "metadata": {
        "id": "0ov0k5LLGoHo"
      }
    },
    {
      "cell_type": "code",
      "execution_count": null,
      "metadata": {
        "id": "ZCGxeApn8uqO"
      },
      "outputs": [],
      "source": [
        "import numpy as np"
      ]
    },
    {
      "cell_type": "code",
      "source": [
        "# Definir la matriz A, simétrica y definida positiva\n",
        "A = np.array([[1,.9,.2],[.9,1,.3],[.2,.3,1]])\n",
        "A"
      ],
      "metadata": {
        "colab": {
          "base_uri": "https://localhost:8080/"
        },
        "id": "yZ5uSudn8wXZ",
        "outputId": "af61fa58-f3c6-41d5-f0bd-42d133590413"
      },
      "execution_count": null,
      "outputs": [
        {
          "output_type": "execute_result",
          "data": {
            "text/plain": [
              "array([[1. , 0.9, 0.2],\n",
              "       [0.9, 1. , 0.3],\n",
              "       [0.2, 0.3, 1. ]])"
            ]
          },
          "metadata": {},
          "execution_count": 2
        }
      ]
    },
    {
      "cell_type": "code",
      "source": [
        "# Calcular el vector de valores propios y la matriz de vectores propios unitarios\n",
        "\n",
        "valores_propios, vectores_propios =np.linalg.eig(A)\n"
      ],
      "metadata": {
        "id": "oETC_vLl8-ef"
      },
      "execution_count": null,
      "outputs": []
    },
    {
      "cell_type": "code",
      "source": [
        "# Imprimir la matriz de vectores propios y el vector de valores propios\n",
        "\n",
        "print('Valores propios\\n',valores_propios,'\\n\\n',\n",
        "      'Vectores propios\\n',vectores_propios)"
      ],
      "metadata": {
        "colab": {
          "base_uri": "https://localhost:8080/"
        },
        "id": "RqT4Jr2GAkgL",
        "outputId": "4ffe5e1f-e5d0-4ffc-d234-119bca809171"
      },
      "execution_count": null,
      "outputs": [
        {
          "output_type": "stream",
          "name": "stdout",
          "text": [
            "Valores propios\n",
            " [2.02255456 0.09402458 0.88342086] \n",
            "\n",
            " Vectores propios\n",
            " [[-0.65954066 -0.69284486 -0.29149978]\n",
            " [-0.67657498  0.71615461 -0.17137347]\n",
            " [-0.32749414 -0.08419369  0.94109458]]\n"
          ]
        }
      ]
    },
    {
      "cell_type": "markdown",
      "source": [
        "# ordenar los vectores"
      ],
      "metadata": {
        "id": "TyDLR379ZCyi"
      }
    },
    {
      "cell_type": "code",
      "source": [
        "# Ordenar los valores propios de mayor a menor y los vectores propios asociados\n",
        "orden_valores_propios = np.argsort(valores_propios)[::-1]\n",
        "valores_propios_ordenados = valores_propios[orden_valores_propios]\n",
        "vectores_propios_ordenados = vectores_propios[:, orden_valores_propios]\n",
        "\n",
        "# Imprimir la matriz de vectores propios y el vector de valores propios ordenados\n",
        "print('Valores propios ordenados\\n', valores_propios_ordenados, '\\n\\n',\n",
        "      'Vectores propios ordenados\\n', vectores_propios_ordenados)"
      ],
      "metadata": {
        "colab": {
          "base_uri": "https://localhost:8080/"
        },
        "id": "_5brVXzLWdZY",
        "outputId": "75ee20e3-bb00-440f-d324-49d7955e0e0b"
      },
      "execution_count": null,
      "outputs": [
        {
          "output_type": "stream",
          "name": "stdout",
          "text": [
            "Valores propios ordenados\n",
            " [2.02255456 0.88342086 0.09402458] \n",
            "\n",
            " Vectores propios ordenados\n",
            " [[-0.65954066 -0.29149978 -0.69284486]\n",
            " [-0.67657498 -0.17137347  0.71615461]\n",
            " [-0.32749414  0.94109458 -0.08419369]]\n"
          ]
        }
      ]
    },
    {
      "cell_type": "markdown",
      "source": [
        "# Comprobar las propiedades de los valores y vectores propios\n",
        "\n",
        "A partir de la matriz $A$ calculamos las matrices $V$ de valores propios y la matriz $L$ con los valores propios en la diagonal y el resto ceros\n",
        "\n",
        "Comprobamos que se cumplen las siguientes igualdades\n",
        "\n",
        "* A·V=V·L\n",
        "* V'·V=I\n",
        "* V·V'=I\n"
      ],
      "metadata": {
        "id": "kPnssnkYN3vM"
      }
    },
    {
      "cell_type": "code",
      "source": [
        "# Renombrar la matriz V con los vectores propios\n",
        "V = vectores_propios_ordenados\n",
        "# Crear la matriz diagonal con los valores propios\n",
        "L = np.diag(valores_propios_ordenados)\n"
      ],
      "metadata": {
        "id": "2We0LzLC-qG3"
      },
      "execution_count": null,
      "outputs": []
    },
    {
      "cell_type": "code",
      "source": [
        "L"
      ],
      "metadata": {
        "colab": {
          "base_uri": "https://localhost:8080/"
        },
        "id": "l-PVFc6AV904",
        "outputId": "edfc529e-4002-433a-e3bf-4a74f92ddf6d"
      },
      "execution_count": null,
      "outputs": [
        {
          "output_type": "execute_result",
          "data": {
            "text/plain": [
              "array([[2.02255456, 0.        , 0.        ],\n",
              "       [0.        , 0.88342086, 0.        ],\n",
              "       [0.        , 0.        , 0.09402458]])"
            ]
          },
          "metadata": {},
          "execution_count": 11
        }
      ]
    },
    {
      "cell_type": "code",
      "source": [
        "# Comprobar la descomposición de la matriz A\n",
        "# Calcular AV y VL y comprobar que coinciden\n",
        "print('AV\\n',A@V,'\\n\\n','VL\\n',V@L)"
      ],
      "metadata": {
        "colab": {
          "base_uri": "https://localhost:8080/"
        },
        "id": "GI5HwWqa9d26",
        "outputId": "fa966388-59c8-412a-aeae-30508a5cda7d"
      },
      "execution_count": null,
      "outputs": [
        {
          "output_type": "stream",
          "name": "stdout",
          "text": [
            "AV\n",
            " [[-1.33395697 -0.25751699 -0.06514444]\n",
            " [-1.36840982 -0.1513949   0.06733613]\n",
            " [-0.66237477  0.83138258 -0.00791628]] \n",
            "\n",
            " VL\n",
            " [[-1.33395697 -0.25751699 -0.06514444]\n",
            " [-1.36840982 -0.1513949   0.06733613]\n",
            " [-0.66237477  0.83138258 -0.00791628]]\n"
          ]
        }
      ]
    },
    {
      "cell_type": "code",
      "source": [
        "# Comprobar V'V=I\n",
        "V.T@V"
      ],
      "metadata": {
        "colab": {
          "base_uri": "https://localhost:8080/"
        },
        "id": "Is6DTGsj_109",
        "outputId": "abc8e12c-d7ba-4fb5-e7c4-967179b31885"
      },
      "execution_count": null,
      "outputs": [
        {
          "output_type": "execute_result",
          "data": {
            "text/plain": [
              "array([[ 1.00000000e+00, -1.21035585e-16, -1.42595454e-16],\n",
              "       [-1.21035585e-16,  1.00000000e+00, -1.62545121e-16],\n",
              "       [-1.42595454e-16, -1.62545121e-16,  1.00000000e+00]])"
            ]
          },
          "metadata": {},
          "execution_count": 13
        }
      ]
    },
    {
      "cell_type": "code",
      "source": [
        "# Comprobar VV'=I\n",
        "V@V.T"
      ],
      "metadata": {
        "colab": {
          "base_uri": "https://localhost:8080/"
        },
        "id": "gSzKszTQXAfQ",
        "outputId": "14df2ddd-8483-4c2c-e856-db1e3d650cfc"
      },
      "execution_count": null,
      "outputs": [
        {
          "output_type": "execute_result",
          "data": {
            "text/plain": [
              "array([[ 1.00000000e+00, -1.75421137e-16,  2.53916583e-17],\n",
              "       [-1.75421137e-16,  1.00000000e+00, -1.05297944e-16],\n",
              "       [ 2.53916583e-17, -1.05297944e-16,  1.00000000e+00]])"
            ]
          },
          "metadata": {},
          "execution_count": 14
        }
      ]
    },
    {
      "cell_type": "code",
      "source": [
        "# Calcular V'V y mostrar el resultado con cuatro decimales\n",
        "np.round(V.T@V,4)"
      ],
      "metadata": {
        "colab": {
          "base_uri": "https://localhost:8080/"
        },
        "id": "YJx9oYVv-RpB",
        "outputId": "8b8340cf-dd45-47ba-e02c-fcdfd9e78d58"
      },
      "execution_count": null,
      "outputs": [
        {
          "output_type": "execute_result",
          "data": {
            "text/plain": [
              "array([[ 1., -0., -0.],\n",
              "       [-0.,  1., -0.],\n",
              "       [-0., -0.,  1.]])"
            ]
          },
          "metadata": {},
          "execution_count": 8
        }
      ]
    },
    {
      "cell_type": "code",
      "source": [
        "# Comprobar VV'=I\n",
        "np.isclose(V@V.T, np.diag(np.ones(3)))"
      ],
      "metadata": {
        "colab": {
          "base_uri": "https://localhost:8080/"
        },
        "id": "PheD8JIP-OqH",
        "outputId": "19d40757-ef21-4cc1-a4f3-5e5bb0ce97b0"
      },
      "execution_count": null,
      "outputs": [
        {
          "output_type": "execute_result",
          "data": {
            "text/plain": [
              "array([[ True,  True,  True],\n",
              "       [ True,  True,  True],\n",
              "       [ True,  True,  True]])"
            ]
          },
          "metadata": {},
          "execution_count": 26
        }
      ]
    }
  ]
}